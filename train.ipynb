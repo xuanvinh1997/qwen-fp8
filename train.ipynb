{
 "cells": [
  {
   "cell_type": "code",
   "execution_count": 6,
   "id": "f9d3e1e8",
   "metadata": {},
   "outputs": [
    {
     "data": {
      "text/html": [],
      "text/plain": [
       "<IPython.core.display.HTML object>"
      ]
     },
     "metadata": {},
     "output_type": "display_data"
    },
    {
     "data": {
      "text/html": [
       " View run <strong style=\"color:#cdcd00\">trill-dominion-2</strong> at: <a href='https://wandb.ai/vinhpx/qwen-fp8/runs/fig8gwfn' target=\"_blank\">https://wandb.ai/vinhpx/qwen-fp8/runs/fig8gwfn</a><br> View project at: <a href='https://wandb.ai/vinhpx/qwen-fp8' target=\"_blank\">https://wandb.ai/vinhpx/qwen-fp8</a><br>Synced 3 W&B file(s), 0 media file(s), 0 artifact file(s) and 0 other file(s)"
      ],
      "text/plain": [
       "<IPython.core.display.HTML object>"
      ]
     },
     "metadata": {},
     "output_type": "display_data"
    },
    {
     "data": {
      "text/html": [
       "Find logs at: <code>./wandb/run-20250406_091840-fig8gwfn/logs</code>"
      ],
      "text/plain": [
       "<IPython.core.display.HTML object>"
      ]
     },
     "metadata": {},
     "output_type": "display_data"
    },
    {
     "data": {
      "text/html": [
       "Tracking run with wandb version 0.19.9"
      ],
      "text/plain": [
       "<IPython.core.display.HTML object>"
      ]
     },
     "metadata": {},
     "output_type": "display_data"
    },
    {
     "data": {
      "text/html": [
       "Run data is saved locally in <code>/Users/vinhpx/Workspaces/qwen-fp8/wandb/run-20250406_091855-ejhra5nm</code>"
      ],
      "text/plain": [
       "<IPython.core.display.HTML object>"
      ]
     },
     "metadata": {},
     "output_type": "display_data"
    },
    {
     "data": {
      "text/html": [
       "Syncing run <strong><a href='https://wandb.ai/vinhpx/qwen-fp8/runs/ejhra5nm' target=\"_blank\">empathic-daedalus-2</a></strong> to <a href='https://wandb.ai/vinhpx/qwen-fp8' target=\"_blank\">Weights & Biases</a> (<a href='https://wandb.me/developer-guide' target=\"_blank\">docs</a>)<br>"
      ],
      "text/plain": [
       "<IPython.core.display.HTML object>"
      ]
     },
     "metadata": {},
     "output_type": "display_data"
    },
    {
     "data": {
      "text/html": [
       " View project at <a href='https://wandb.ai/vinhpx/qwen-fp8' target=\"_blank\">https://wandb.ai/vinhpx/qwen-fp8</a>"
      ],
      "text/plain": [
       "<IPython.core.display.HTML object>"
      ]
     },
     "metadata": {},
     "output_type": "display_data"
    },
    {
     "data": {
      "text/html": [
       " View run at <a href='https://wandb.ai/vinhpx/qwen-fp8/runs/ejhra5nm' target=\"_blank\">https://wandb.ai/vinhpx/qwen-fp8/runs/ejhra5nm</a>"
      ],
      "text/plain": [
       "<IPython.core.display.HTML object>"
      ]
     },
     "metadata": {},
     "output_type": "display_data"
    },
    {
     "data": {
      "text/html": [
       "<button onClick=\"this.nextSibling.style.display='block';this.style.display='none';\">Display W&B run</button><iframe src='https://wandb.ai/vinhpx/qwen-fp8/runs/ejhra5nm?jupyter=true' style='border:none;width:100%;height:420px;display:none;'></iframe>"
      ],
      "text/plain": [
       "<wandb.sdk.wandb_run.Run at 0x10fa10bf0>"
      ]
     },
     "execution_count": 6,
     "metadata": {},
     "output_type": "execute_result"
    }
   ],
   "source": [
    "import wandb\n",
    "\n",
    "# Initialize a new run\n",
    "wandb.init()"
   ]
  },
  {
   "cell_type": "code",
   "execution_count": 8,
   "id": "2ebab7f8",
   "metadata": {},
   "outputs": [
    {
     "name": "stdout",
     "output_type": "stream",
     "text": [
      "qwen-fp8\n",
      "Math-reasoning-mixed-fp32\n",
      "Math-reasoning-mixed-fp16\n",
      "Math-reasoning-mixed-fp8\n",
      "Qwen2.5-7B-Instruct-function-calling-mixed-fp16\n",
      "Qwen2.5-7B-Instruct-function-calling-mixed-fp8\n"
     ]
    }
   ],
   "source": [
    "# get all projects\n",
    "projects = wandb.Api().projects()\n",
    "# print the project names\n",
    "for project in projects:\n",
    "    print(project.name)\n",
    "    # get all runs in the project\n",
    "    if hasattr(project, 'runs'):\n",
    "        runs = project.runs()\n",
    "        # print the run names\n",
    "        for run in runs:\n",
    "            print(run.name)\n",
    "            # get all files in the run\n",
    "            files = run.files()\n",
    "            # print the file names\n",
    "            for file in files:\n",
    "                print(file.name)\n",
    "                # download the file\n",
    "                file.download(replace=True)"
   ]
  },
  {
   "cell_type": "code",
   "execution_count": 33,
   "id": "742e7070",
   "metadata": {},
   "outputs": [],
   "source": [
    "# visualize the downloaded files\n",
    "# wandb.finish()\n",
    "import os\n",
    "import matplotlib.pyplot as plt\n"
   ]
  },
  {
   "cell_type": "code",
   "execution_count": 34,
   "id": "0b44cb5e",
   "metadata": {},
   "outputs": [],
   "source": [
    "api = wandb.Api()\n",
    "\n",
    "# Access a specific run\n",
    "run_fp16 = api.run(\"vinhpx/Math-reasoning-mixed-fp16/ivggoj7a\")\n",
    "run_fp8 = api.run(\"vinhpx/Math-reasoning-mixed-fp8/runs/s82vj3o6\")\n",
    "# run = project.runs(\"ivggoj7a\")\n"
   ]
  },
  {
   "cell_type": "code",
   "execution_count": 35,
   "id": "ebfc6f4d",
   "metadata": {},
   "outputs": [],
   "source": [
    "# Get the metrics history\n",
    "metrics_df_fp16 = run_fp16.history()\n",
    "metrics_df_fp8 = run_fp8.history()\n",
    "\n",
    "# Get config values\n",
    "config = run.config\n",
    "\n",
    "# Get summary metrics (final values)\n",
    "summary = run.summary"
   ]
  },
  {
   "cell_type": "code",
   "execution_count": 36,
   "id": "a80647d0",
   "metadata": {},
   "outputs": [
    {
     "data": {
      "text/html": [
       "<div>\n",
       "<style scoped>\n",
       "    .dataframe tbody tr th:only-of-type {\n",
       "        vertical-align: middle;\n",
       "    }\n",
       "\n",
       "    .dataframe tbody tr th {\n",
       "        vertical-align: top;\n",
       "    }\n",
       "\n",
       "    .dataframe thead th {\n",
       "        text-align: right;\n",
       "    }\n",
       "</style>\n",
       "<table border=\"1\" class=\"dataframe\">\n",
       "  <thead>\n",
       "    <tr style=\"text-align: right;\">\n",
       "      <th></th>\n",
       "      <th>eval/loss</th>\n",
       "      <th>eval/perplexity</th>\n",
       "      <th>_step</th>\n",
       "      <th>epoch</th>\n",
       "      <th>train/loss</th>\n",
       "      <th>_timestamp</th>\n",
       "      <th>_runtime</th>\n",
       "      <th>train/step</th>\n",
       "      <th>train/learning_rate</th>\n",
       "    </tr>\n",
       "  </thead>\n",
       "  <tbody>\n",
       "    <tr>\n",
       "      <th>0</th>\n",
       "      <td>NaN</td>\n",
       "      <td>NaN</td>\n",
       "      <td>20</td>\n",
       "      <td>NaN</td>\n",
       "      <td>0.804702</td>\n",
       "      <td>1.743827e+09</td>\n",
       "      <td>30.147430</td>\n",
       "      <td>20.0</td>\n",
       "      <td>4.997024e-05</td>\n",
       "    </tr>\n",
       "    <tr>\n",
       "      <th>1</th>\n",
       "      <td>NaN</td>\n",
       "      <td>NaN</td>\n",
       "      <td>40</td>\n",
       "      <td>NaN</td>\n",
       "      <td>0.777983</td>\n",
       "      <td>1.743827e+09</td>\n",
       "      <td>38.357112</td>\n",
       "      <td>40.0</td>\n",
       "      <td>4.994048e-05</td>\n",
       "    </tr>\n",
       "    <tr>\n",
       "      <th>2</th>\n",
       "      <td>NaN</td>\n",
       "      <td>NaN</td>\n",
       "      <td>60</td>\n",
       "      <td>NaN</td>\n",
       "      <td>0.756140</td>\n",
       "      <td>1.743827e+09</td>\n",
       "      <td>46.564801</td>\n",
       "      <td>60.0</td>\n",
       "      <td>4.991072e-05</td>\n",
       "    </tr>\n",
       "    <tr>\n",
       "      <th>3</th>\n",
       "      <td>NaN</td>\n",
       "      <td>NaN</td>\n",
       "      <td>150</td>\n",
       "      <td>NaN</td>\n",
       "      <td>0.702737</td>\n",
       "      <td>1.743827e+09</td>\n",
       "      <td>83.481926</td>\n",
       "      <td>150.0</td>\n",
       "      <td>4.977681e-05</td>\n",
       "    </tr>\n",
       "    <tr>\n",
       "      <th>4</th>\n",
       "      <td>NaN</td>\n",
       "      <td>NaN</td>\n",
       "      <td>170</td>\n",
       "      <td>NaN</td>\n",
       "      <td>0.708327</td>\n",
       "      <td>1.743827e+09</td>\n",
       "      <td>91.693899</td>\n",
       "      <td>170.0</td>\n",
       "      <td>4.974705e-05</td>\n",
       "    </tr>\n",
       "    <tr>\n",
       "      <th>...</th>\n",
       "      <td>...</td>\n",
       "      <td>...</td>\n",
       "      <td>...</td>\n",
       "      <td>...</td>\n",
       "      <td>...</td>\n",
       "      <td>...</td>\n",
       "      <td>...</td>\n",
       "      <td>...</td>\n",
       "      <td>...</td>\n",
       "    </tr>\n",
       "    <tr>\n",
       "      <th>495</th>\n",
       "      <td>NaN</td>\n",
       "      <td>NaN</td>\n",
       "      <td>33450</td>\n",
       "      <td>NaN</td>\n",
       "      <td>0.524012</td>\n",
       "      <td>1.743841e+09</td>\n",
       "      <td>13776.870376</td>\n",
       "      <td>33450.0</td>\n",
       "      <td>2.276582e-07</td>\n",
       "    </tr>\n",
       "    <tr>\n",
       "      <th>496</th>\n",
       "      <td>NaN</td>\n",
       "      <td>NaN</td>\n",
       "      <td>33490</td>\n",
       "      <td>NaN</td>\n",
       "      <td>0.523944</td>\n",
       "      <td>1.743841e+09</td>\n",
       "      <td>13793.292981</td>\n",
       "      <td>33490.0</td>\n",
       "      <td>1.681397e-07</td>\n",
       "    </tr>\n",
       "    <tr>\n",
       "      <th>497</th>\n",
       "      <td>NaN</td>\n",
       "      <td>NaN</td>\n",
       "      <td>33520</td>\n",
       "      <td>NaN</td>\n",
       "      <td>0.523885</td>\n",
       "      <td>1.743841e+09</td>\n",
       "      <td>13805.602377</td>\n",
       "      <td>33520.0</td>\n",
       "      <td>1.235009e-07</td>\n",
       "    </tr>\n",
       "    <tr>\n",
       "      <th>498</th>\n",
       "      <td>NaN</td>\n",
       "      <td>NaN</td>\n",
       "      <td>33540</td>\n",
       "      <td>NaN</td>\n",
       "      <td>0.523835</td>\n",
       "      <td>1.743841e+09</td>\n",
       "      <td>13813.806775</td>\n",
       "      <td>33540.0</td>\n",
       "      <td>9.374163e-08</td>\n",
       "    </tr>\n",
       "    <tr>\n",
       "      <th>499</th>\n",
       "      <td>0.464671</td>\n",
       "      <td>1.591491</td>\n",
       "      <td>33605</td>\n",
       "      <td>3.0</td>\n",
       "      <td>NaN</td>\n",
       "      <td>1.743845e+09</td>\n",
       "      <td>18031.667325</td>\n",
       "      <td>NaN</td>\n",
       "      <td>NaN</td>\n",
       "    </tr>\n",
       "  </tbody>\n",
       "</table>\n",
       "<p>500 rows × 9 columns</p>\n",
       "</div>"
      ],
      "text/plain": [
       "     eval/loss  eval/perplexity  _step  epoch  train/loss    _timestamp  \\\n",
       "0          NaN              NaN     20    NaN    0.804702  1.743827e+09   \n",
       "1          NaN              NaN     40    NaN    0.777983  1.743827e+09   \n",
       "2          NaN              NaN     60    NaN    0.756140  1.743827e+09   \n",
       "3          NaN              NaN    150    NaN    0.702737  1.743827e+09   \n",
       "4          NaN              NaN    170    NaN    0.708327  1.743827e+09   \n",
       "..         ...              ...    ...    ...         ...           ...   \n",
       "495        NaN              NaN  33450    NaN    0.524012  1.743841e+09   \n",
       "496        NaN              NaN  33490    NaN    0.523944  1.743841e+09   \n",
       "497        NaN              NaN  33520    NaN    0.523885  1.743841e+09   \n",
       "498        NaN              NaN  33540    NaN    0.523835  1.743841e+09   \n",
       "499   0.464671         1.591491  33605    3.0         NaN  1.743845e+09   \n",
       "\n",
       "         _runtime  train/step  train/learning_rate  \n",
       "0       30.147430        20.0         4.997024e-05  \n",
       "1       38.357112        40.0         4.994048e-05  \n",
       "2       46.564801        60.0         4.991072e-05  \n",
       "3       83.481926       150.0         4.977681e-05  \n",
       "4       91.693899       170.0         4.974705e-05  \n",
       "..            ...         ...                  ...  \n",
       "495  13776.870376     33450.0         2.276582e-07  \n",
       "496  13793.292981     33490.0         1.681397e-07  \n",
       "497  13805.602377     33520.0         1.235009e-07  \n",
       "498  13813.806775     33540.0         9.374163e-08  \n",
       "499  18031.667325         NaN                  NaN  \n",
       "\n",
       "[500 rows x 9 columns]"
      ]
     },
     "execution_count": 36,
     "metadata": {},
     "output_type": "execute_result"
    }
   ],
   "source": [
    "metrics_df_fp8\n"
   ]
  },
  {
   "cell_type": "code",
   "execution_count": 37,
   "id": "06586413",
   "metadata": {},
   "outputs": [
    {
     "data": {
      "image/png": "[encoded data removed]",
      "text/plain": [
       "<Figure size 640x480 with 1 Axes>"
      ]
     },
     "metadata": {},
     "output_type": "display_data"
    }
   ],
   "source": [
    "# visualize the metrics step and train/loss\n",
    "plt.plot(metrics_df_fp16[\"train/step\"], metrics_df_fp16[\"train/loss\"], label=\"fp16\")\n",
    "plt.plot(metrics_df_fp8[\"train/step\"], metrics_df_fp8[\"train/loss\"], label=\"fp8\")\n",
    "plt.xlabel(\"Step\")\n",
    "plt.ylabel(\"Loss\")\n",
    "plt.title(\"Loss vs Step\")\n",
    "plt.legend()\n",
    "plt.show()"
   ]
  },
  {
   "cell_type": "code",
   "execution_count": 38,
   "id": "cf863c99",
   "metadata": {},
   "outputs": [],
   "source": [
    "from datasets import load_dataset\n",
    "\n",
    "data = load_dataset(\"vinhpx/math_natural_reasoning\", split=\"train\")"
   ]
  },
  {
   "cell_type": "code",
   "execution_count": 39,
   "id": "6ca5b9be",
   "metadata": {},
   "outputs": [],
   "source": [
    "from transformers import AutoTokenizer\n",
    "tokenizer = AutoTokenizer.from_pretrained(\"Qwen/Qwen2.5-1.5B-Instruct\")"
   ]
  },
  {
   "cell_type": "code",
   "execution_count": 47,
   "id": "8c80c740",
   "metadata": {},
   "outputs": [
    {
     "name": "stderr",
     "output_type": "stream",
     "text": [
      "Filter: 100%|██████████| 2559963/2559963 [00:07<00:00, 329168.48 examples/s]\n",
      "Filter: 100%|██████████| 2559957/2559957 [00:12<00:00, 210328.59 examples/s]\n",
      "Map (num_proc=10): 100%|██████████| 2263750/2263750 [06:53<00:00, 5471.67 examples/s] \n"
     ]
    }
   ],
   "source": [
    "def tokenize_function(batch):\n",
    "    # question = data[\"question\"]\n",
    "    # response = data[\"response\"]\n",
    "    lengths = []\n",
    "    for question, response in zip(batch[\"question\"], batch[\"response\"]):\n",
    "        \n",
    "        messages = [\n",
    "            {\n",
    "                \"role\": \"user\",\n",
    "                \"content\": question\n",
    "            },\n",
    "            {\n",
    "                \"role\": \"assistant\",\n",
    "                \"content\": response\n",
    "            }\n",
    "        ]\n",
    "        # Tokenize and prepare input\n",
    "        encodings = tokenizer.apply_chat_template(\n",
    "            messages,\n",
    "            tokenize=True\n",
    "        )\n",
    "        lengths.append(encodings)\n",
    "    # Add the lengths to the batch\n",
    "    batch[\"lengths\"] = lengths\n",
    "    return batch\n",
    "\n",
    "data = data.filter(lambda x: x['question'] != \"\" and x['response'] != \"\")\n",
    "            # filter all question or response is null\n",
    "data = data.filter(lambda x: x['question'] is not None and x['response'] is not None)\n",
    "            \n",
    "# Tokenize the dataset\n",
    "tokenized_data = data.map(tokenize_function, batched=True, num_proc=10)"
   ]
  },
  {
   "cell_type": "code",
   "execution_count": 50,
   "id": "59f66ce6",
   "metadata": {},
   "outputs": [
    {
     "name": "stderr",
     "output_type": "stream",
     "text": [
      "Filter: 100%|██████████| 2263750/2263750 [04:47<00:00, 7881.16 examples/s] \n"
     ]
    },
    {
     "data": {
      "text/plain": [
       "374993"
      ]
     },
     "execution_count": 50,
     "metadata": {},
     "output_type": "execute_result"
    }
   ],
   "source": [
    "# count if lengths > 1024\n",
    "len(tokenized_data.filter(lambda x: len(x[\"lengths\"]) > 1024))\n"
   ]
  },
  {
   "cell_type": "code",
   "execution_count": 52,
   "id": "8b561389",
   "metadata": {},
   "outputs": [
    {
     "name": "stderr",
     "output_type": "stream",
     "text": [
      "Filter (num_proc=12): 100%|██████████| 2263750/2263750 [00:41<00:00, 54252.20 examples/s]\n"
     ]
    }
   ],
   "source": [
    "large_data = tokenized_data.filter(lambda x: len(x[\"lengths\"]) > 1024, num_proc=12)"
   ]
  },
  {
   "cell_type": "code",
   "execution_count": null,
   "id": "926bd5e6",
   "metadata": {},
   "outputs": [],
   "source": []
  }
 ],
 "metadata": {
  "kernelspec": {
   "display_name": "base",
   "language": "python",
   "name": "python3"
  },
  "language_info": {
   "codemirror_mode": {
    "name": "ipython",
    "version": 3
   },
   "file_extension": ".py",
   "mimetype": "text/x-python",
   "name": "python",
   "nbconvert_exporter": "python",
   "pygments_lexer": "ipython3",
   "version": "3.12.9"
  }
 },
 "nbformat": 4,
 "nbformat_minor": 5
}
